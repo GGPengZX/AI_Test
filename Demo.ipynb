{
  "nbformat": 4,
  "nbformat_minor": 0,
  "metadata": {
    "colab": {
      "provenance": [],
      "gpuType": "T4",
      "authorship_tag": "ABX9TyPMq8xsGtGH9wlgJLkqeTPa",
      "include_colab_link": true
    },
    "kernelspec": {
      "name": "python3",
      "display_name": "Python 3"
    },
    "language_info": {
      "name": "python"
    },
    "accelerator": "GPU"
  },
  "cells": [
    {
      "cell_type": "markdown",
      "metadata": {
        "id": "view-in-github",
        "colab_type": "text"
      },
      "source": [
        "<a href=\"https://colab.research.google.com/github/GGPengZX/AI_Test/blob/main/Demo.ipynb\" target=\"_parent\"><img src=\"https://colab.research.google.com/assets/colab-badge.svg\" alt=\"Open In Colab\"/></a>"
      ]
    },
    {
      "cell_type": "code",
      "source": [
        "!pip install pdfplumber -i https://mirrors.bfsu.edu.cn/pypi/web/simple/"
      ],
      "metadata": {
        "id": "OojBYWP_saqY",
        "colab": {
          "base_uri": "https://localhost:8080/"
        },
        "outputId": "59afc2ac-4b41-422c-fbf0-6e740eb4ce30"
      },
      "execution_count": 7,
      "outputs": [
        {
          "output_type": "stream",
          "name": "stdout",
          "text": [
            "Looking in indexes: https://mirrors.bfsu.edu.cn/pypi/web/simple/\n",
            "Collecting pdfplumber\n",
            "  Downloading https://mirrors.bfsu.edu.cn/pypi/web/packages/f8/d3/f58c2d5d86a585e438c6708f568eca79e7c4e6ee3d5210cf8b31d38cb021/pdfplumber-0.10.3-py3-none-any.whl (48 kB)\n",
            "\u001b[2K     \u001b[90m━━━━━━━━━━━━━━━━━━━━━━━━━━━━━━━━━━━━━━━━\u001b[0m \u001b[32m49.0/49.0 kB\u001b[0m \u001b[31m204.2 kB/s\u001b[0m eta \u001b[36m0:00:00\u001b[0m\n",
            "\u001b[?25hCollecting pdfminer.six==20221105 (from pdfplumber)\n",
            "  Downloading https://mirrors.bfsu.edu.cn/pypi/web/packages/46/68/b3fb5f073bcd3df9143a3520289c147351bfa3c1b096d44081f38fd1c247/pdfminer.six-20221105-py3-none-any.whl (5.6 MB)\n",
            "\u001b[2K     \u001b[90m━━━━━━━━━━━━━━━━━━━━━━━━━━━━━━━━━━━━━━━━\u001b[0m \u001b[32m5.6/5.6 MB\u001b[0m \u001b[31m585.5 kB/s\u001b[0m eta \u001b[36m0:00:00\u001b[0m\n",
            "\u001b[?25hRequirement already satisfied: Pillow>=9.1 in /usr/local/lib/python3.10/dist-packages (from pdfplumber) (9.4.0)\n",
            "Collecting pypdfium2>=4.18.0 (from pdfplumber)\n",
            "  Downloading https://mirrors.bfsu.edu.cn/pypi/web/packages/c7/2f/0ba6715e498a467195d132dfd38238469fb07afb19c6dea1a6d0c4163cc2/pypdfium2-4.25.0-py3-none-manylinux_2_17_x86_64.whl (3.0 MB)\n",
            "\u001b[2K     \u001b[90m━━━━━━━━━━━━━━━━━━━━━━━━━━━━━━━━━━━━━━━━\u001b[0m \u001b[32m3.0/3.0 MB\u001b[0m \u001b[31m541.6 kB/s\u001b[0m eta \u001b[36m0:00:00\u001b[0m\n",
            "\u001b[?25hRequirement already satisfied: charset-normalizer>=2.0.0 in /usr/local/lib/python3.10/dist-packages (from pdfminer.six==20221105->pdfplumber) (3.3.2)\n",
            "Requirement already satisfied: cryptography>=36.0.0 in /usr/local/lib/python3.10/dist-packages (from pdfminer.six==20221105->pdfplumber) (41.0.7)\n",
            "Requirement already satisfied: cffi>=1.12 in /usr/local/lib/python3.10/dist-packages (from cryptography>=36.0.0->pdfminer.six==20221105->pdfplumber) (1.16.0)\n",
            "Requirement already satisfied: pycparser in /usr/local/lib/python3.10/dist-packages (from cffi>=1.12->cryptography>=36.0.0->pdfminer.six==20221105->pdfplumber) (2.21)\n",
            "Installing collected packages: pypdfium2, pdfminer.six, pdfplumber\n",
            "Successfully installed pdfminer.six-20221105 pdfplumber-0.10.3 pypdfium2-4.25.0\n"
          ]
        }
      ]
    },
    {
      "cell_type": "code",
      "source": [
        "from dotenv import load_dotenv\n",
        "import streamlit as st\n",
        "from langchain.text_splitter import CharacterTextSplitter\n",
        "from langchain.embeddings.openai import OpenAIEmbeddings\n",
        "from langchain.vectorstores import FAISS\n",
        "from langchain.chains.question_answering import load_qa_chain\n",
        "from langchain.llms import OpenAI\n",
        "from langchain.callbacks import get_openai_callback\n",
        "import pdfplumber\n",
        "\n",
        "\n",
        "def main():\n",
        "  load_dotenv()\n",
        "\n",
        "  # locale.setlocale(locale.LC_ALL, 'zh_CN')\n",
        "  st.set_page_config(page_title=\"专属PDF知识库\")\n",
        "  st.header(\"专属PDF知识库💬\")\n",
        "  # 上传文件\n",
        "  pdf = st.file_uploader(\"/content/8941576.PDF\", type=\"pdf\")\n",
        "\n",
        "  # 提取文本\n",
        "  if pdf is not None:\n",
        "    text = \"\"\n",
        "    with pdfplumber.open(pdf) as pdf_reader:\n",
        "      for page in pdf_reader.pages:\n",
        "        text += page.extract_text()\n",
        "\n",
        "    # 文本分片\n",
        "    text_splitter = CharacterTextSplitter(\n",
        "      separator=\"\\n\",\n",
        "      chunk_size=1000,\n",
        "      chunk_overlap=50,\n",
        "      length_function=len\n",
        "    )\n",
        "    chunks = text_splitter.split_text(text)\n",
        "\n",
        "    # 创建embeddings\n",
        "    embeddings = OpenAIEmbeddings()\n",
        "    knowledge_base = FAISS.from_texts(chunks, embeddings)\n",
        "    user_question = st.text_input(\"来向我提问吧：\")\n",
        "    if user_question:\n",
        "      docs = knowledge_base.similarity_search(user_question)\n",
        "\n",
        "      llm = OpenAI()\n",
        "      chain = load_qa_chain(llm, chain_type=\"stuff\")\n",
        "      with get_openai_callback() as cb:\n",
        "        response = chain.run(input_documents=docs, question=user_question)\n",
        "        print(cb)\n",
        "\n",
        "      st.write(response)\n",
        "\n",
        "if __name__ == '__main__':\n",
        "    main()\n"
      ],
      "metadata": {
        "id": "-6c-qOH9AOsO"
      },
      "execution_count": null,
      "outputs": []
    }
  ]
}